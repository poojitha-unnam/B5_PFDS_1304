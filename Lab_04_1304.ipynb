{
  "nbformat": 4,
  "nbformat_minor": 0,
  "metadata": {
    "colab": {
      "provenance": [],
      "authorship_tag": "ABX9TyNl9poxokGXMP8lsIgFn8Xz",
      "include_colab_link": true
    },
    "kernelspec": {
      "name": "python3",
      "display_name": "Python 3"
    },
    "language_info": {
      "name": "python"
    }
  },
  "cells": [
    {
      "cell_type": "markdown",
      "metadata": {
        "id": "view-in-github",
        "colab_type": "text"
      },
      "source": [
        "<a href=\"https://colab.research.google.com/github/poojitha-unnam/B5_PFDS_1304/blob/main/Lab_04_1304.ipynb\" target=\"_parent\"><img src=\"https://colab.research.google.com/assets/colab-badge.svg\" alt=\"Open In Colab\"/></a>"
      ]
    },
    {
      "cell_type": "markdown",
      "source": [
        "#QUESTION-01"
      ],
      "metadata": {
        "id": "gAiQZvs9YWG_"
      }
    },
    {
      "cell_type": "code",
      "source": [
        "import pandas as pd\n",
        "data = {\n",
        "    'Invoice_No': [2001, 2002, 2003, 2004, 2005, 2006],\n",
        "    'Customer_Name': ['Anil', 'Sunil', 'Kiran', 'Meena', 'Sita', 'Arjun'],\n",
        "    'Product': ['Laptop', None, 'Tablet', 'Laptop', 'Phone', 'Tablet'],\n",
        "    'Quantity': [2, 5, None, 1, 3, 10],\n",
        "    'Price': [50000, 20000, 15000, None, 12000, 18000],\n",
        "    'Total': [100000, None, None, None, 36000, 180000]\n",
        "}\n",
        "\n",
        "df = pd.DataFrame(data)\n",
        "df.to_csv('sales_data.csv', index=False)\n",
        "\n",
        "print(\"sample sales_data.csv file has been created.\")\n"
      ],
      "metadata": {
        "colab": {
          "base_uri": "https://localhost:8080/"
        },
        "id": "iF-Ce6VNXmjs",
        "outputId": "a418c416-0326-4898-9a4b-9d3b4dd02039"
      },
      "execution_count": 5,
      "outputs": [
        {
          "output_type": "stream",
          "name": "stdout",
          "text": [
            "sample sales_data.csv file has been created.\n"
          ]
        }
      ]
    },
    {
      "cell_type": "code",
      "source": [
        "df = pd.read_csv('sales_data.csv')\n",
        "df_clean = df.dropna(subset=['Product', 'Quantity']).copy()\n",
        "mean_price = df_clean['Price'].mean()\n",
        "df_clean.loc[:, 'Price'] = df_clean['Price'].fillna(mean_price)\n",
        "df_clean.loc[:, 'Total'] = df_clean.apply(\n",
        "    lambda row: row['Quantity'] * row['Price'] if pd.isnull(row['Total']) else row['Total'],\n",
        "    axis=1\n",
        " )\n",
        "print(\"Cleaned sales data with missing Price filled and Total calculated:\")\n",
        "print(df_clean)"
      ],
      "metadata": {
        "colab": {
          "base_uri": "https://localhost:8080/"
        },
        "id": "aJd0GF9bX644",
        "outputId": "1d0adc74-dc12-45bc-f5a2-67b80d3503ee"
      },
      "execution_count": 12,
      "outputs": [
        {
          "output_type": "stream",
          "name": "stdout",
          "text": [
            "Cleaned sales data with missing Price filled and Total calculated:\n",
            "   Invoice_No Customer_Name Product  Quantity         Price          Total\n",
            "0        2001          Anil  Laptop       2.0  50000.000000  100000.000000\n",
            "3        2004         Meena  Laptop       1.0  26666.666667   26666.666667\n",
            "4        2005          Sita   Phone       3.0  12000.000000   36000.000000\n",
            "5        2006         Arjun  Tablet      10.0  18000.000000  180000.000000\n"
          ]
        }
      ]
    },
    {
      "cell_type": "code",
      "source": [
        "large_transactions = df_clean[df_clean['Total'] > 1000]\n",
        "print(\"\\nRecords with Total > 1000:\")\n",
        "print(large_transactions)"
      ],
      "metadata": {
        "colab": {
          "base_uri": "https://localhost:8080/"
        },
        "id": "EjtphxWcYCZC",
        "outputId": "959f126c-5da1-4671-d444-2c4856679e18"
      },
      "execution_count": 13,
      "outputs": [
        {
          "output_type": "stream",
          "name": "stdout",
          "text": [
            "\n",
            "Records with Total > 1000:\n",
            "   Invoice_No Customer_Name Product  Quantity         Price          Total\n",
            "0        2001          Anil  Laptop       2.0  50000.000000  100000.000000\n",
            "3        2004         Meena  Laptop       1.0  26666.666667   26666.666667\n",
            "4        2005          Sita   Phone       3.0  12000.000000   36000.000000\n",
            "5        2006         Arjun  Tablet      10.0  18000.000000  180000.000000\n"
          ]
        }
      ]
    },
    {
      "cell_type": "markdown",
      "source": [
        "#QUESTION-02"
      ],
      "metadata": {
        "id": "83z9E9qSYaN1"
      }
    },
    {
      "cell_type": "code",
      "source": [
        "import pandas as pd\n",
        "data = {\n",
        "    \"Applicant_ID\": [201, 202, 203, 204, 205, 206],\n",
        "    \"Name\": [\"Rohit\", \"Anusha\", \"Karthik\", \"Divya\", \"Manoj\", \"Sneha\"],\n",
        "    \"Degree\": [\"MBA\", \"B.Tech\", \"M.Sc\", \"MCA\", \"BBA\", \"M.Tech\"],\n",
        "    \"Experience_Years\": [2, None, 6, 3, 1, None],\n",
        "    \"Python_Score\": [78, 91, None, 84, 76, 89],\n",
        "    \"Status\": [\"Pending\", \"Pending\", \"Pending\", \"Pending\", \"Pending\", \"Pending\"]\n",
        "}\n",
        "\n",
        "df = pd.DataFrame(data)\n",
        "df.to_csv(\"applicants.csv\", index=False)\n",
        "print(df)\n"
      ],
      "metadata": {
        "colab": {
          "base_uri": "https://localhost:8080/"
        },
        "id": "JH3Ah5l5YTtp",
        "outputId": "58f71d91-19af-4708-d196-1cf80aa3ef86"
      },
      "execution_count": 14,
      "outputs": [
        {
          "output_type": "stream",
          "name": "stdout",
          "text": [
            "   Applicant_ID     Name  Degree  Experience_Years  Python_Score   Status\n",
            "0           201    Rohit     MBA               2.0          78.0  Pending\n",
            "1           202   Anusha  B.Tech               NaN          91.0  Pending\n",
            "2           203  Karthik    M.Sc               6.0           NaN  Pending\n",
            "3           204    Divya     MCA               3.0          84.0  Pending\n",
            "4           205    Manoj     BBA               1.0          76.0  Pending\n",
            "5           206    Sneha  M.Tech               NaN          89.0  Pending\n"
          ]
        }
      ]
    },
    {
      "cell_type": "code",
      "source": [
        "df = pd.read_csv(\"applicants.csv\")\n",
        "df = df.dropna(subset=[\"Python_Score\"])\n",
        "df[\"Experience_Years\"] = df[\"Experience_Years\"].fillna(0)\n",
        "filtered_df = df[(df[\"Python_Score\"] > 80) & (df[\"Experience_Years\"] > 2)]\n",
        "filtered_df.to_csv(\"filtered_applicants.csv\", index=False)\n",
        "print(\"Filtered Applicants:\")\n",
        "print(filtered_df)"
      ],
      "metadata": {
        "colab": {
          "base_uri": "https://localhost:8080/"
        },
        "id": "KvU30t3UYzzw",
        "outputId": "96717d96-6c65-42de-a763-a9801926de67"
      },
      "execution_count": 15,
      "outputs": [
        {
          "output_type": "stream",
          "name": "stdout",
          "text": [
            "Filtered Applicants:\n",
            "   Applicant_ID   Name Degree  Experience_Years  Python_Score   Status\n",
            "3           204  Divya    MCA               3.0          84.0  Pending\n"
          ]
        }
      ]
    }
  ]
}